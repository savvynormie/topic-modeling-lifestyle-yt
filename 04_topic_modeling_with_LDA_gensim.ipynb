{
 "cells": [
  {
   "cell_type": "code",
   "execution_count": null,
   "id": "0198f4d4",
   "metadata": {},
   "outputs": [],
   "source": [
    "# ! pip install gensim"
   ]
  },
  {
   "cell_type": "code",
   "execution_count": 3,
   "id": "597e58f8",
   "metadata": {},
   "outputs": [],
   "source": [
    "import os\n",
    "import json"
   ]
  },
  {
   "cell_type": "code",
   "execution_count": 4,
   "id": "268dd8ae",
   "metadata": {},
   "outputs": [],
   "source": [
    "data_dir_name = \"data\"\n",
    "documents_dir_name = \"corpus\"\n",
    "working_dir = os.path.join(data_dir_name, documents_dir_name)\n",
    "documents_file_name = \"lemmatized_lifestyle_documents.json\"\n",
    "documents_file = os.path.join(working_dir, documents_file_name)\n",
    "lda_log_dir = \"lda_topics\"\n",
    "models_dir_name = \"models\"\n",
    "lda_dir_name = \"lda\"\n",
    "lifestye_stopwords_file_name = \"lifestyle_stop_words_4_lda.json\""
   ]
  },
  {
   "cell_type": "code",
   "execution_count": 5,
   "id": "8c313162",
   "metadata": {},
   "outputs": [],
   "source": [
    "with open(documents_file, \"r\") as file:\n",
    "    lifestyle_documents = json.load(file)"
   ]
  },
  {
   "cell_type": "code",
   "execution_count": 6,
   "id": "685a9a4b",
   "metadata": {},
   "outputs": [],
   "source": [
    "stopwords_path = os.path.join(data_dir_name, models_dir_name, lda_dir_name, lifestye_stopwords_file_name)\n",
    "with open(stopwords_path, \"r\") as file:\n",
    "    lifestye_stopwords = json.load(file)\n",
    "\n",
    "# And removing the \"lifestyle_stop_words\" from the lemmatized texts for consitency:\n",
    "lifestyle_tokens = [[item for item in document.split() if item not in lifestye_stopwords] for document in lifestyle_documents]"
   ]
  },
  {
   "cell_type": "code",
   "execution_count": 8,
   "id": "e1d22ca4",
   "metadata": {},
   "outputs": [],
   "source": [
    "from gensim.corpora import Dictionary\n",
    "\n",
    "id2word = Dictionary(lifestyle_tokens)\n",
    "id2word.filter_extremes(no_below=2, no_above=0.95)\n",
    "corpus = [id2word.doc2bow(doc) for doc in lifestyle_tokens]"
   ]
  },
  {
   "cell_type": "code",
   "execution_count": 10,
   "id": "78689abd",
   "metadata": {},
   "outputs": [],
   "source": [
    "from gensim.models import LdaModel\n",
    "\n",
    "gensim_true_lda_models = {}\n",
    "\n",
    "for n_topics in range(3, 16):\n",
    "    lda_model = LdaModel(\n",
    "        corpus=corpus,\n",
    "        id2word=id2word,\n",
    "        num_topics=n_topics,\n",
    "        random_state=42,\n",
    "        passes=10,\n",
    "        iterations=100,\n",
    "        eval_every=None\n",
    "    )\n",
    "    gensim_true_lda_models[n_topics] = lda_model"
   ]
  },
  {
   "cell_type": "code",
   "execution_count": 11,
   "id": "53584400",
   "metadata": {},
   "outputs": [],
   "source": [
    "gensim_true_lda_topic_modeling_log = {}\n",
    "count = 1\n",
    "\n",
    "for key, value in gensim_true_lda_models.items():\n",
    "    gensim_ttm = gensim_true_lda_models[key].get_topics()\n",
    "    \n",
    "    for topic_idx, topic_vector in enumerate(gensim_ttm):\n",
    "        gensim_true_lda_topic_modeling_log.setdefault(\"Trial #\", []).append(f\"Trial #{count}\") \n",
    "        gensim_true_lda_topic_modeling_log.setdefault(\"# of Topics\", []).append(int(key))\n",
    "        gensim_true_lda_topic_modeling_log.setdefault(\"Topic #\", []).append(topic_idx + 1)\n",
    "        gensim_true_lda_topic_modeling_log.setdefault(\"Top Words\", []).append(\", \".join([id2word[i] for i in topic_vector.argsort()[:-26:-1]]))\n",
    "        gensim_true_lda_topic_modeling_log.setdefault(\"Label(s)\", []).append(\"\")\n",
    "        gensim_true_lda_topic_modeling_log.setdefault(\"Interpretability\", []).append(\"\")\n",
    "        gensim_true_lda_topic_modeling_log.setdefault(\"Related or Similar to\", []).append(\"\")\n",
    "        gensim_true_lda_topic_modeling_log.setdefault(\"Notes\", []).append(\"\")\n",
    "        \n",
    "    count += 1"
   ]
  },
  {
   "cell_type": "code",
   "execution_count": 12,
   "id": "e5951ebe",
   "metadata": {},
   "outputs": [],
   "source": [
    "import pandas as pd\n",
    "import joblib\n",
    "\n",
    "gensim_true_lda_topic_modeling_log_pd = pd.DataFrame.from_dict(gensim_true_lda_topic_modeling_log)\n",
    "gensim_true_lda_topic_modeling_log_pd.to_csv(os.path.join(data_dir_name, lda_log_dir, \"gensim_true_lda_topic_modeling_log.csv\"), index=True, encoding=\"utf-8\")\n",
    "\n",
    "save_path = os.path.join(data_dir_name, models_dir_name, lda_dir_name)\n",
    "os.makedirs(save_path, exist_ok=True)\n",
    "\n",
    "# Save each fitted LDA model\n",
    "for n_topics, model in gensim_true_lda_models.items():\n",
    "    joblib.dump(model, f\"{save_path}/gensim_true_lda_{n_topics}_topics.pkl\")"
   ]
  },
  {
   "cell_type": "code",
   "execution_count": 13,
   "id": "9f28e7c6",
   "metadata": {},
   "outputs": [],
   "source": [
    "# Import the vocab from count_vectorizer to use it to mimic an id2word vocab\n",
    "\n",
    "import joblib\n",
    "\n",
    "retrieval_path = os.path.join(data_dir_name, models_dir_name, lda_dir_name)\n",
    "count_vectorizer_file_name = \"count_vectorizer.pkl\"\n",
    "\n",
    "vectorizer = joblib.load(os.path.join(retrieval_path, count_vectorizer_file_name))"
   ]
  },
  {
   "cell_type": "code",
   "execution_count": 14,
   "id": "f0ee2db2",
   "metadata": {},
   "outputs": [],
   "source": [
    "from gensim.corpora import Dictionary\n",
    "\n",
    "# Mimicing CountVectorizer's vocabulary inside a Gensim Dictionary\n",
    "\n",
    "feature_names = vectorizer.get_feature_names_out()\n",
    "id2word = Dictionary()\n",
    "id2word.token2id = {word: i for i, word in enumerate(feature_names)}\n",
    "id2word.id2token = {i: word for word, i in id2word.token2id.items()}\n",
    "\n",
    "corpus = [id2word.doc2bow(item) for item in lifestyle_tokens]"
   ]
  },
  {
   "cell_type": "code",
   "execution_count": 16,
   "id": "41390fd2",
   "metadata": {},
   "outputs": [],
   "source": [
    "from gensim.models import LdaModel\n",
    "\n",
    "gensim_fake_lda_models = {}\n",
    "\n",
    "for n_topics in range(3, 16):\n",
    "    lda_model = LdaModel(\n",
    "        corpus=corpus,\n",
    "        id2word=id2word,\n",
    "        num_topics=n_topics,\n",
    "        random_state=42,\n",
    "        passes=10,\n",
    "        iterations=100,\n",
    "        eval_every=None\n",
    "    )\n",
    "    gensim_fake_lda_models[n_topics] = lda_model"
   ]
  },
  {
   "cell_type": "code",
   "execution_count": 17,
   "id": "b98559a8",
   "metadata": {},
   "outputs": [],
   "source": [
    "gensim_fake_lda_topic_modeling_log = {}\n",
    "count = 1\n",
    "\n",
    "for key, value in gensim_fake_lda_models.items():\n",
    "    gensim_ttm = gensim_fake_lda_models[key].get_topics()\n",
    "    \n",
    "    for topic_idx, topic_vector in enumerate(gensim_ttm):\n",
    "        gensim_fake_lda_topic_modeling_log.setdefault(\"Trial #\", []).append(f\"Trial #{count}\") \n",
    "        gensim_fake_lda_topic_modeling_log.setdefault(\"# of Topics\", []).append(int(key))\n",
    "        gensim_fake_lda_topic_modeling_log.setdefault(\"Topic #\", []).append(topic_idx + 1)\n",
    "        gensim_fake_lda_topic_modeling_log.setdefault(\"Top Words\", []).append(\", \".join([id2word[i] for i in topic_vector.argsort()[:-26:-1]]))\n",
    "        gensim_fake_lda_topic_modeling_log.setdefault(\"Label(s)\", []).append(\"\")\n",
    "        gensim_fake_lda_topic_modeling_log.setdefault(\"Interpretability\", []).append(\"\")\n",
    "        gensim_fake_lda_topic_modeling_log.setdefault(\"Related or Similar to\", []).append(\"\")\n",
    "        gensim_fake_lda_topic_modeling_log.setdefault(\"Notes\", []).append(\"\")\n",
    "        \n",
    "    count += 1"
   ]
  },
  {
   "cell_type": "code",
   "execution_count": 18,
   "id": "3248b987",
   "metadata": {},
   "outputs": [],
   "source": [
    "import pandas as pd\n",
    "import joblib\n",
    "\n",
    "gensim_fake_lda_topic_modeling_log_pd = pd.DataFrame.from_dict(gensim_fake_lda_topic_modeling_log)\n",
    "gensim_fake_lda_topic_modeling_log_pd.to_csv(os.path.join(data_dir_name, lda_log_dir, \"gensim_fake_lda_topic_modeling_log.csv\"), index=True, encoding=\"utf-8\")\n",
    "\n",
    "save_path = os.path.join(data_dir_name, models_dir_name, lda_dir_name)\n",
    "os.makedirs(save_path, exist_ok=True)\n",
    "\n",
    "# Save each fitted LDA model\n",
    "for n_topics, model in gensim_fake_lda_models.items():\n",
    "    joblib.dump(model, f\"{save_path}/gensim_fake_lda_{n_topics}_topics.pkl\")"
   ]
  }
 ],
 "metadata": {
  "kernelspec": {
   "display_name": ".venv",
   "language": "python",
   "name": "python3"
  },
  "language_info": {
   "codemirror_mode": {
    "name": "ipython",
    "version": 3
   },
   "file_extension": ".py",
   "mimetype": "text/x-python",
   "name": "python",
   "nbconvert_exporter": "python",
   "pygments_lexer": "ipython3",
   "version": "3.11.13"
  }
 },
 "nbformat": 4,
 "nbformat_minor": 5
}
