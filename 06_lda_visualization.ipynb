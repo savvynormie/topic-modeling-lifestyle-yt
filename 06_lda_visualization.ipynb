{
 "cells": [
  {
   "cell_type": "code",
   "execution_count": null,
   "id": "2878a866",
   "metadata": {},
   "outputs": [],
   "source": [
    "# ! pip install seaborn"
   ]
  },
  {
   "cell_type": "code",
   "execution_count": 12,
   "id": "55a2f8dc",
   "metadata": {},
   "outputs": [],
   "source": [
    "import joblib\n",
    "import os\n",
    "import json"
   ]
  },
  {
   "cell_type": "code",
   "execution_count": 29,
   "id": "b733d72a",
   "metadata": {},
   "outputs": [],
   "source": [
    "data_dir_name = \"data\"\n",
    "lda_log_dir = \"lda_topics\"\n",
    "models_dir_name = \"models\"\n",
    "lda_dir_name = \"lda\"\n",
    "lda_dir_path = os.path.join(data_dir_name, models_dir_name, lda_dir_name)\n",
    "\n",
    "documents_dir_name = \"corpus\"\n",
    "documents_file_name = \"lemmatized_lifestyle_documents.json\"\n",
    "lifestye_stopwords_file_name = \"lifestyle_stop_words_4_lda.json\"\n",
    "documents_file = os.path.join(data_dir_name, documents_dir_name, documents_file_name)\n",
    "\n",
    "sk_coherence_name = \"sk_coherence_scores_top25.json\"\n",
    "gensim_true_coherence_name = \"gensim_true_coherence_scores_top25.json\"\n",
    "gensim_fake_coherence_name = \"gensim_fake_coherence_scores_top25.json\""
   ]
  },
  {
   "cell_type": "code",
   "execution_count": 30,
   "id": "ce2b5a98",
   "metadata": {},
   "outputs": [
    {
     "data": {
      "text/plain": [
       "11060"
      ]
     },
     "execution_count": 30,
     "metadata": {},
     "output_type": "execute_result"
    }
   ],
   "source": [
    "with open(documents_file, \"r\") as file:\n",
    "    lifestyle_documents = json.load(file)\n",
    "\n",
    "# Loading 'lifestyle_stop-words'\n",
    "stopwords_path = os.path.join(data_dir_name, models_dir_name, lda_dir_name, lifestye_stopwords_file_name)\n",
    "with open(stopwords_path, \"r\") as file:\n",
    "    lifestye_stopwords = json.load(file)\n",
    "\n",
    "# And removing the \"lifestyle_stop_words\" from the lemmatized texts for consitency:\n",
    "lifestyle_tokens = [[item for item in document.split() if item not in lifestye_stopwords] for document in lifestyle_documents]\n",
    "\n",
    "\n",
    "# Recreatring gensim's vocabulary\n",
    "from gensim.corpora import Dictionary\n",
    "\n",
    "id2word = Dictionary(lifestyle_tokens)\n",
    "id2word.filter_extremes(no_below=2, no_above=0.95)\n",
    "\n",
    "len(id2word)"
   ]
  },
  {
   "cell_type": "code",
   "execution_count": 31,
   "id": "d7639c59",
   "metadata": {},
   "outputs": [],
   "source": [
    "# Imnpoting coherence scores\n",
    "with open(os.path.join(lda_dir_path, sk_coherence_name),\"r\") as file:\n",
    "    sk_coherence = json.load(file)\n",
    "\n",
    "with open(os.path.join(lda_dir_path, gensim_true_coherence_name),\"r\") as file:\n",
    "    gensim_true_coherence = json.load(file)\n",
    "\n",
    "with open(os.path.join(lda_dir_path, gensim_fake_coherence_name),\"r\") as file:\n",
    "    gensim_fake_coherence = json.load(file)"
   ]
  },
  {
   "cell_type": "code",
   "execution_count": null,
   "id": "926f4107",
   "metadata": {},
   "outputs": [],
   "source": [
    "import matplotlib.pyplot as plt\n",
    "\n",
    "def sort_scores(score_dict):\n",
    "    items = sorted(((int(k), v) for k, v in score_dict.items()))\n",
    "    x, y = zip(*items)\n",
    "    return x, y\n",
    "\n",
    "x1, y1 = sort_scores(sk_coherence)\n",
    "x2, y2 = sort_scores(gensim_true_coherence)\n",
    "x3, y3 = sort_scores(gensim_fake_coherence)\n",
    "\n",
    "plt.figure(figsize=(10, 6))\n",
    "plt.plot(x1, y1, marker='o', label='sklearn LDA')\n",
    "plt.plot(x2, y2, marker='s', label='gensim LDA (native Dictionary)')\n",
    "plt.plot(x3, y3, marker='^', label='gensim LDA (CV Dictionary)')\n",
    "\n",
    "plt.xlabel(\"Number of Topics\")\n",
    "plt.ylabel(\"Coherence Score\")\n",
    "plt.title(\"Coherence Scores by Number of Topics\")\n",
    "plt.legend()\n",
    "plt.grid(True)\n",
    "plt.tight_layout()\n",
    "plt.show()\n"
   ]
  },
  {
   "cell_type": "code",
   "execution_count": null,
   "id": "83cf1bf0",
   "metadata": {},
   "outputs": [],
   "source": [
    "# Importing the sklearn lda data for heatmaps\n",
    "\n",
    "import re\n",
    "\n",
    "count_vectorizer_file_name = \"count_vectorizer.pkl\"\n",
    "doc_term_matrix_file_name = \"doc_term_matrix.pkl\"\n",
    "\n",
    "# Load an LDA model (or LDA models)\n",
    "lda_models = {}\n",
    "\n",
    "for item in os.listdir(lda_dir_path):\n",
    "    if item.startswith(\"lda_\") and item.endswith(\"_topics.pkl\"):\n",
    "        n_topics_match = re.search(r\"lda_(\\d+)_topics\\.pkl\", item)\n",
    "        if n_topics_match:\n",
    "            n_topics = int(n_topics_match.group(1))\n",
    "            lda_models[n_topics] = joblib.load(os.path.join(lda_dir_path, item))\n",
    "\n",
    "\n",
    "# Load the vectorizer\n",
    "vectorizer = joblib.load(os.path.join(lda_dir_path, count_vectorizer_file_name))\n",
    "\n",
    "# Load the doc-term matrix\n",
    "doc_term_matrix = joblib.load(os.path.join(lda_dir_path, doc_term_matrix_file_name))"
   ]
  },
  {
   "cell_type": "code",
   "execution_count": 33,
   "id": "46771fd8",
   "metadata": {},
   "outputs": [],
   "source": [
    "# Improting \"true\" gensim LDA models data for heatmap\n",
    "\n",
    "gensim_true_lda_models = {}\n",
    "\n",
    "for item in os.listdir(lda_dir_path):\n",
    "    if item.startswith(\"gensim_true_lda_\") and item.endswith(\"_topics.pkl\"):\n",
    "        n_topics_match = re.search(r\"gensim_true_lda_(\\d+)_topics\\.pkl\", item)\n",
    "        if n_topics_match:\n",
    "            n_topics = int(n_topics_match.group(1))\n",
    "            gensim_true_lda_models[n_topics] = joblib.load(os.path.join(lda_dir_path, item))\n",
    "\n",
    "gensim_true_lda_models = dict(sorted(gensim_true_lda_models.items(), key=lambda item: item[0], reverse=False))"
   ]
  },
  {
   "cell_type": "code",
   "execution_count": 34,
   "id": "7494e55e",
   "metadata": {},
   "outputs": [],
   "source": [
    "\"\"\"\n",
    "Loading 'fake' gensim models\n",
    "(models fitted using id2word based on vount vectorizer's vocab)\n",
    "\"\"\"\n",
    "gensim_fake_lda_models = {}\n",
    "\n",
    "for item in os.listdir(lda_dir_path):\n",
    "    if item.startswith(\"gensim_fake_lda_\") and item.endswith(\"_topics.pkl\"):\n",
    "        n_topics_match = re.search(r\"gensim_fake_lda_(\\d+)_topics\\.pkl\", item)\n",
    "        if n_topics_match:\n",
    "            n_topics = int(n_topics_match.group(1))\n",
    "            gensim_fake_lda_models[n_topics] = joblib.load(os.path.join(lda_dir_path, item))\n",
    "\n",
    "gensim_fake_lda_models = dict(sorted(gensim_fake_lda_models.items(), key=lambda item: item[0], reverse=False))"
   ]
  },
  {
   "cell_type": "code",
   "execution_count": 35,
   "id": "94c6f376",
   "metadata": {},
   "outputs": [],
   "source": [
    "def get_data_for_heatmap_sk(lda_model, vocabulary=vectorizer):\n",
    "    words_sk = vocabulary.get_feature_names_out()\n",
    "    word_weights_sk = lda_model.components_\n",
    "    return words_sk, word_weights_sk\n",
    "\n",
    "def get_data_for_heatmap_true_gensim(lda_model, vocabulary=id2word):\n",
    "    word_weights_gensim = lda_model.get_topics()\n",
    "    return vocabulary, word_weights_gensim\n",
    "\n",
    "def get_data_for_heatmap_fake_gensim(lda_model, vocabulary=vectorizer):\n",
    "    words_gensim = vocabulary.get_feature_names_out()\n",
    "    word_weights_gensim = lda_model.get_topics()\n",
    "    return words_gensim, word_weights_gensim"
   ]
  },
  {
   "cell_type": "code",
   "execution_count": null,
   "id": "736676a0",
   "metadata": {},
   "outputs": [],
   "source": [
    "import numpy as np\n",
    "import pandas as pd\n",
    "import matplotlib.pyplot as plt\n",
    "import seaborn as sns"
   ]
  },
  {
   "cell_type": "code",
   "execution_count": 51,
   "id": "debb8104",
   "metadata": {},
   "outputs": [],
   "source": [
    "def plot_heatmap_for_topics(words, word_weights, top_n=20, width=10, height=12):\n",
    "\n",
    "    data_for_heatmap = []\n",
    "\n",
    "    for topic_idx, topic_weights in enumerate(word_weights):\n",
    "        top_word_indices = topic_weights.argsort()[::-1][:top_n]\n",
    "        for word_index in top_word_indices:\n",
    "            word = words[word_index]\n",
    "            weight = topic_weights[word_index]\n",
    "            data_for_heatmap.append((f\"Topic {topic_idx+1}\", word, weight))\n",
    "\n",
    "    # Create pivot table for heatmap\n",
    "    df = pd.DataFrame(data_for_heatmap, columns=[\"Topic\", \"Word\", \"Weight\"])\n",
    "    heatmap_data = df.pivot(index=\"Word\", columns=\"Topic\", values=\"Weight\")\n",
    "\n",
    "    # Sort words so they appear grouped in the heatmap\n",
    "    heatmap_data = heatmap_data.loc[heatmap_data.sum(axis=1).sort_values(ascending=False).index]\n",
    "\n",
    "    # Plot heatmap\n",
    "    plt.figure(figsize=(width, height))\n",
    "\n",
    "    ax = sns.heatmap(heatmap_data, cmap=\"YlGnBu\")\n",
    "    ax.set_yticks([i + 0.5 for i in range(len(heatmap_data.index))])\n",
    "    ax.set_yticklabels(heatmap_data.index, fontsize=7, rotation=0) \n",
    "\n",
    "    plt.title(\"Top Words per Topic\")\n",
    "    plt.tight_layout()\n",
    "    plt.show()"
   ]
  },
  {
   "cell_type": "code",
   "execution_count": null,
   "id": "a001fa68",
   "metadata": {},
   "outputs": [],
   "source": [
    "plot_heatmap_for_topics(get_data_for_heatmap_sk(lda_models[6])[0], get_data_for_heatmap_sk(lda_models[6])[1])"
   ]
  },
  {
   "cell_type": "code",
   "execution_count": null,
   "id": "33b37742",
   "metadata": {},
   "outputs": [],
   "source": [
    "plot_heatmap_for_topics(get_data_for_heatmap_sk(lda_models[13])[0], get_data_for_heatmap_sk(lda_models[13])[1], height=20)"
   ]
  },
  {
   "cell_type": "code",
   "execution_count": null,
   "id": "236bcb59",
   "metadata": {},
   "outputs": [],
   "source": [
    "plot_heatmap_for_topics(get_data_for_heatmap_sk(lda_models[4])[0], get_data_for_heatmap_sk(lda_models[4])[1])"
   ]
  },
  {
   "cell_type": "code",
   "execution_count": null,
   "id": "e16ee14c",
   "metadata": {},
   "outputs": [],
   "source": [
    "plot_heatmap_for_topics(get_data_for_heatmap_fake_gensim(gensim_fake_lda_models[6])[0], get_data_for_heatmap_fake_gensim(gensim_fake_lda_models[6])[1])"
   ]
  }
 ],
 "metadata": {
  "kernelspec": {
   "display_name": ".venv",
   "language": "python",
   "name": "python3"
  },
  "language_info": {
   "codemirror_mode": {
    "name": "ipython",
    "version": 3
   },
   "file_extension": ".py",
   "mimetype": "text/x-python",
   "name": "python",
   "nbconvert_exporter": "python",
   "pygments_lexer": "ipython3",
   "version": "3.11.13"
  }
 },
 "nbformat": 4,
 "nbformat_minor": 5
}
