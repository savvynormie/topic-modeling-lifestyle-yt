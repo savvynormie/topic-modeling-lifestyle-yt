{
 "cells": [
  {
   "cell_type": "code",
   "execution_count": null,
   "id": "6cc07efc",
   "metadata": {},
   "outputs": [],
   "source": [
    "#! pip install tqdm\n",
    "#! pip install pandas\n",
    "#! pip install -U scikit-learn\n",
    "# ! pip install numpy -U\n",
    "# ! pip install gensim -U"
   ]
  },
  {
   "cell_type": "code",
   "execution_count": 2,
   "id": "9e36813e",
   "metadata": {},
   "outputs": [],
   "source": [
    "import os\n",
    "import json"
   ]
  },
  {
   "cell_type": "code",
   "execution_count": 3,
   "id": "7c0864b1",
   "metadata": {},
   "outputs": [],
   "source": [
    "data_dir_name = \"data\"\n",
    "documents_dir_name = \"corpus\"\n",
    "working_dir = os.path.join(data_dir_name, documents_dir_name)\n",
    "documents_file_name = \"lemmatized_lifestyle_documents.json\"\n",
    "documents_file = os.path.join(working_dir, documents_file_name)\n",
    "lda_log_dir = \"lda_topics\"\n",
    "models_dir_name = \"models\"\n",
    "lda_dir_name = \"lda\""
   ]
  },
  {
   "cell_type": "code",
   "execution_count": 4,
   "id": "46354c97",
   "metadata": {},
   "outputs": [],
   "source": [
    "with open(documents_file, \"r\") as file:\n",
    "    lifestyle_documents = json.load(file)"
   ]
  },
  {
   "cell_type": "code",
   "execution_count": 5,
   "id": "c0a024ec",
   "metadata": {},
   "outputs": [],
   "source": [
    "lifestyle_bag_of_words = [item for sublist in [item.split() for item in lifestyle_documents] for item in sublist]"
   ]
  },
  {
   "cell_type": "code",
   "execution_count": 6,
   "id": "10b87595",
   "metadata": {},
   "outputs": [],
   "source": [
    "from collections import Counter\n",
    "lifestyle_words_freqs = Counter(lifestyle_bag_of_words)\n",
    "lifestyle_most_common_words = lifestyle_words_freqs.most_common(60)"
   ]
  },
  {
   "cell_type": "code",
   "execution_count": 7,
   "id": "42cc252d",
   "metadata": {},
   "outputs": [],
   "source": [
    "lifestyle_stop_words = [item[0] for item in lifestyle_most_common_words[:37]]"
   ]
  },
  {
   "cell_type": "code",
   "execution_count": 8,
   "id": "e9134f25",
   "metadata": {},
   "outputs": [],
   "source": [
    "lifestyle_stop_words.extend([\"kind\", \"yeah\", \"bro\", \"gent\", \"buy\", \"maybe\", \"probably\", \"oh\"])\n",
    "lifestyle_stop_words.remove(\"style\")\n",
    "lifestyle_stop_words.remove(\"shirt\")\n",
    "lifestyle_stop_words.remove(\"wear\")"
   ]
  },
  {
   "cell_type": "code",
   "execution_count": 9,
   "id": "c818df39",
   "metadata": {},
   "outputs": [],
   "source": [
    "lifestye_stopwords_file_name = \"lifestyle_stop_words_4_lda.json\" \n",
    "with open(os.path.join(data_dir_name, models_dir_name, lda_dir_name, lifestye_stopwords_file_name), \"w\") as file:\n",
    "    json.dump(lifestyle_stop_words, file, indent = 4, ensure_ascii=False)"
   ]
  },
  {
   "cell_type": "code",
   "execution_count": 10,
   "id": "7fa96264",
   "metadata": {},
   "outputs": [],
   "source": [
    "from sklearn.feature_extraction.text import CountVectorizer\n",
    "\n",
    "vectorizer = CountVectorizer(stop_words=lifestyle_stop_words, max_df=0.95, min_df=2)\n",
    "doc_term_matrix = vectorizer.fit_transform(lifestyle_documents)"
   ]
  },
  {
   "cell_type": "code",
   "execution_count": 14,
   "id": "d8d373f0",
   "metadata": {},
   "outputs": [
    {
     "name": "stderr",
     "output_type": "stream",
     "text": [
      "Fitting LDA Models: 100%|██████████| 13/13 [00:54<00:00,  4.20s/it]\n"
     ]
    }
   ],
   "source": [
    "from sklearn.decomposition import LatentDirichletAllocation\n",
    "from tqdm import tqdm\n",
    "\n",
    "count = 1\n",
    "lda_topic_modeling_log = {}\n",
    "lda_models = {}\n",
    "\n",
    "for n_topics in tqdm(range(3,16), desc=\"Fitting LDA Models\"):\n",
    "    lda = LatentDirichletAllocation(n_components=n_topics, random_state=42)\n",
    "    lda.fit(doc_term_matrix)\n",
    "    lda_models[n_topics] = lda\n",
    "\n",
    "    words = vectorizer.get_feature_names_out()\n",
    "    \n",
    "    for topic_idx, topic in enumerate(lda.components_):\n",
    "        \n",
    "        lda_topic_modeling_log.setdefault(\"Trial #\", []).append(f\"Trial #{count}\") \n",
    "        lda_topic_modeling_log.setdefault(\"# of Topics\", []).append(n_topics)\n",
    "        lda_topic_modeling_log.setdefault(\"Topic #\", []).append(topic_idx + 1)\n",
    "        lda_topic_modeling_log.setdefault(\"Top Words\", []).append(\", \".join([words[i] for i in topic.argsort()[:-26:-1]]))\n",
    "        lda_topic_modeling_log.setdefault(\"Label(s)\", []).append(\"\")\n",
    "        lda_topic_modeling_log.setdefault(\"Interpretability\", []).append(\"\")\n",
    "        lda_topic_modeling_log.setdefault(\"Related or Similar to\", []).append(\"\")\n",
    "        lda_topic_modeling_log.setdefault(\"Notes\", []).append(\"\")\n",
    "        \n",
    "    count += 1"
   ]
  },
  {
   "cell_type": "code",
   "execution_count": 15,
   "id": "45fb256b",
   "metadata": {},
   "outputs": [],
   "source": [
    "import pandas as pd\n",
    "\n",
    "lda_topic_modeling_log_pd = pd.DataFrame.from_dict(lda_topic_modeling_log)\n",
    "lda_topic_modeling_log_pd\n",
    "lda_topic_modeling_log_pd.to_csv(os.path.join(data_dir_name, lda_log_dir, \"lda_topic_modeling_log.csv\"), index=True, encoding=\"utf-8\")"
   ]
  },
  {
   "cell_type": "code",
   "execution_count": 16,
   "id": "6add8fde",
   "metadata": {},
   "outputs": [
    {
     "data": {
      "text/plain": [
       "['data/models/lda/doc_term_matrix.pkl']"
      ]
     },
     "execution_count": 16,
     "metadata": {},
     "output_type": "execute_result"
    }
   ],
   "source": [
    "import joblib\n",
    "\n",
    "save_path = os.path.join(data_dir_name, models_dir_name, lda_dir_name)\n",
    "os.makedirs(save_path, exist_ok=True)\n",
    "\n",
    "# Saving each fitted LDA model\n",
    "for n_topics, model in lda_models.items():\n",
    "    joblib.dump(model, f\"{save_path}/lda_{n_topics}_topics.pkl\")\n",
    "\n",
    "# Saving the vectorizer\n",
    "joblib.dump(vectorizer, f\"{save_path}/count_vectorizer.pkl\")\n",
    "\n",
    "# Saving the doc-term matrix\n",
    "joblib.dump(doc_term_matrix, f\"{save_path}/doc_term_matrix.pkl\")"
   ]
  }
 ],
 "metadata": {
  "kernelspec": {
   "display_name": ".venv",
   "language": "python",
   "name": "python3"
  },
  "language_info": {
   "codemirror_mode": {
    "name": "ipython",
    "version": 3
   },
   "file_extension": ".py",
   "mimetype": "text/x-python",
   "name": "python",
   "nbconvert_exporter": "python",
   "pygments_lexer": "ipython3",
   "version": "3.11.13"
  }
 },
 "nbformat": 4,
 "nbformat_minor": 5
}
