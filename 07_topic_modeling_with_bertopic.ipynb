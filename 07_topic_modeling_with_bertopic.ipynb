{
 "cells": [
  {
   "cell_type": "code",
   "execution_count": null,
   "id": "2da04334",
   "metadata": {},
   "outputs": [],
   "source": [
    "# ! pip install bertopic\n",
    "# ! pip install sentence-transformers\n",
    "# ! pip install -U nbformat"
   ]
  },
  {
   "cell_type": "code",
   "execution_count": 1,
   "id": "79dc2cb6",
   "metadata": {},
   "outputs": [],
   "source": [
    "import os\n",
    "import json\n",
    "\n",
    "data_dir_name = \"data\"\n",
    "documents_dir_name = \"corpus\"\n",
    "documents_dir_path = os.path.join(data_dir_name, documents_dir_name)\n",
    "\n",
    "documents_file_name = \"tokenized_lifestyle_documents.json\"\n",
    "documents_file = os.path.join(documents_dir_path, documents_file_name)\n",
    "\n",
    "transcripts_no_stopwords_name = \"transcripts_no_stopwords.json\"\n",
    "transcripts_no_stopwords_file = os.path.join(documents_dir_path, transcripts_no_stopwords_name)\n",
    "\n",
    "transcripts_as_tokens_name = \"transcripts_as_complete_tokens.json\"\n",
    "transcripts_as_tokens_file = os.path.join(documents_dir_path, transcripts_as_tokens_name)\n",
    "\n",
    "database_file_name_1 = \"lifestyle_channels_full_db.json\"\n",
    "database_file_name_2 = \"lifestyle_channels_full_db_2.json\"\n",
    "database_file_1 = os.path.join(documents_dir_path, database_file_name_1)\n",
    "database_file_2 = os.path.join(documents_dir_path, database_file_name_2)\n",
    "\n",
    "models_dir_name = \"models\"\n",
    "models_dir_path = os.path.join(data_dir_name, models_dir_name)\n",
    "os.makedirs(models_dir_path, exist_ok=True)\n",
    "\n",
    "bertopic_dir_name = \"bert_topics\"\n",
    "bertopic_dir_path = os.path.join(data_dir_name, bertopic_dir_name)\n",
    "os.makedirs(bertopic_dir_path, exist_ok=True)\n",
    "\n",
    "default_model_dir_name = \"default\"\n",
    "# os.makedirs(default_model_dir_name, exist_ok=True)\n",
    "\n",
    "bert_topics_dir_name = \"bert_topics\"\n",
    "# os.makedirs(bert_topics_dir_name, exist_ok=True)\n",
    "\n",
    "default_model_path = os.path.join(data_dir_name, models_dir_name, bertopic_dir_name, default_model_dir_name)"
   ]
  },
  {
   "cell_type": "code",
   "execution_count": 3,
   "id": "4da4bc2e",
   "metadata": {},
   "outputs": [],
   "source": [
    "with open(database_file_1, \"r\") as file:\n",
    "    lifestyle_database_1 = json.load(file)\n",
    "\n",
    "with open(database_file_2, \"r\") as file:\n",
    "    lifestyle_database_2 = json.load(file)\n",
    "\n",
    "with open(documents_file, \"r\") as file:\n",
    "    tokenized_documents = json.load(file)\n",
    "\n",
    "with open(transcripts_no_stopwords_file, \"r\") as file:\n",
    "    transcrips_no_stopwords = json.load(file)\n",
    "\n",
    "with open(transcripts_as_tokens_file, \"r\") as file:\n",
    "    transcripts_as_tokens = json.load(file)\n",
    "\n",
    "lifestyle_database = lifestyle_database_1 + lifestyle_database_2\n",
    "full_transcripts = [item[\"transcript\"] for item in lifestyle_database if \"transcript\" in item and  not \"File missing — could not transcribe.\" in item[\"transcript\"]]"
   ]
  },
  {
   "cell_type": "code",
   "execution_count": null,
   "id": "fcb0610b",
   "metadata": {},
   "outputs": [],
   "source": [
    "from bertopic import BERTopic\n",
    "from sentence_transformers import SentenceTransformer\n",
    "from hdbscan import HDBSCAN"
   ]
  },
  {
   "cell_type": "markdown",
   "id": "6b63015d",
   "metadata": {},
   "source": [
    "# Transcripts with stopwords pre-removed"
   ]
  },
  {
   "cell_type": "code",
   "execution_count": null,
   "id": "f8565c24",
   "metadata": {},
   "outputs": [],
   "source": [
    "embedding_model = SentenceTransformer(\"all-mpnet-base-v2\")\n",
    "\n",
    "hdbscan_model = HDBSCAN(\n",
    "    min_cluster_size=5,\n",
    "    min_samples=1,\n",
    "    prediction_data=True)\n",
    "\n",
    "topic_model = BERTopic(\n",
    "    top_n_words=30,\n",
    "    embedding_model=embedding_model,\n",
    "    hdbscan_model=hdbscan_model,\n",
    "    verbose=True,\n",
    "    calculate_probabilities=True\n",
    ")\n",
    "\n",
    "topics, probs = topic_model.fit_transform(transcrips_no_stopwords)\n",
    "\n",
    "topic_model.get_topic_info()"
   ]
  },
  {
   "cell_type": "code",
   "execution_count": null,
   "id": "79c387d9",
   "metadata": {},
   "outputs": [],
   "source": [
    "log_n_topics_pd = topic_model.get_topic_info()\n",
    "log_n_topics_pd.to_csv(os.path.join(data_dir_name, bertopic_dir_name, \"n_topics_log.csv\"), index=True, encoding=\"utf-8\")"
   ]
  },
  {
   "cell_type": "code",
   "execution_count": null,
   "id": "15c78257",
   "metadata": {},
   "outputs": [],
   "source": [
    "topic_model.reduce_topics(transcrips_no_stopwords)"
   ]
  },
  {
   "cell_type": "code",
   "execution_count": null,
   "id": "42afd5b4",
   "metadata": {},
   "outputs": [],
   "source": [
    "topic_model.get_topic_info()"
   ]
  },
  {
   "cell_type": "code",
   "execution_count": null,
   "id": "4664987d",
   "metadata": {},
   "outputs": [],
   "source": [
    "from_n_topics_pd = topic_model.get_topic_info()\n",
    "from_n_topics_pd.to_csv(os.path.join(data_dir_name, bertopic_dir_name, \"from_n_topics_log.csv\"), index=True, encoding=\"utf-8\")"
   ]
  }
 ],
 "metadata": {
  "kernelspec": {
   "display_name": ".venv",
   "language": "python",
   "name": "python3"
  },
  "language_info": {
   "codemirror_mode": {
    "name": "ipython",
    "version": 3
   },
   "file_extension": ".py",
   "mimetype": "text/x-python",
   "name": "python",
   "nbconvert_exporter": "python",
   "pygments_lexer": "ipython3",
   "version": "3.11.13"
  }
 },
 "nbformat": 4,
 "nbformat_minor": 5
}
