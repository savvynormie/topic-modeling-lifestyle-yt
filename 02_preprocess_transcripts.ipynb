{
 "cells": [
  {
   "cell_type": "code",
   "execution_count": 2,
   "id": "916344d1",
   "metadata": {},
   "outputs": [],
   "source": [
    "# !pip install -U scikit-learn\n",
    "# !pip install -U stanza\n",
    "# !pip install nltk"
   ]
  },
  {
   "cell_type": "code",
   "execution_count": 1,
   "id": "76afed1c",
   "metadata": {},
   "outputs": [],
   "source": [
    "import os\n",
    "import json"
   ]
  },
  {
   "cell_type": "code",
   "execution_count": 2,
   "id": "c9922829",
   "metadata": {},
   "outputs": [],
   "source": [
    "data_dir_name = \"data\"\n",
    "database_dir_name = \"corpus\"\n",
    "working_dir = os.path.join(data_dir_name, database_dir_name)\n",
    "database_file_name_1 = \"lifestyle_channels_full_db.json\"\n",
    "database_file_name_2 = \"lifestyle_channels_full_db_2.json\"\n",
    "database_file_1 = os.path.join(working_dir, database_file_name_1)\n",
    "database_file_2 = os.path.join(working_dir, database_file_name_2)"
   ]
  },
  {
   "cell_type": "code",
   "execution_count": null,
   "id": "3044a6e9",
   "metadata": {},
   "outputs": [],
   "source": [
    "with open(database_file_1, \"r\") as file:\n",
    "    lifestyle_database_1 = json.load(file)\n",
    "\n",
    "with open(database_file_2, \"r\") as file:\n",
    "    lifestyle_database_2 = json.load(file)\n",
    "\n",
    "lifestyle_database = lifestyle_database_1 + lifestyle_database_2\n",
    "full_transcripts = [item[\"transcript\"] for item in lifestyle_database if \"transcript\" in item and  not \"File missing — could not transcribe.\" in item[\"transcript\"]]\n",
    "\n",
    "print(f\"The database of video tanscript now has {len(lifestyle_database)} entries.\")\n",
    "print(f\"The full transcrtipts/documents variable now contains {len(full_transcripts)} full raw transcripts.\")"
   ]
  },
  {
   "cell_type": "code",
   "execution_count": null,
   "id": "e377d07b",
   "metadata": {},
   "outputs": [],
   "source": [
    "import stanza\n",
    "stanza.download(\"en\")\n",
    "nlp = stanza.Pipeline(\"en\", processors=\"tokenize, pos, lemma\", verbose=False)"
   ]
  },
  {
   "cell_type": "code",
   "execution_count": 7,
   "id": "6726eeeb",
   "metadata": {},
   "outputs": [],
   "source": [
    "from tqdm import tqdm\n",
    "\n",
    "def stanzafy_transcripts(transcrips):\n",
    "    annotated_docs = [nlp(item) for item in tqdm(\n",
    "                                                transcrips,\n",
    "                                                desc=\"Stanza-fying the Transcripts. It may be a minute...\"\n",
    "                                                )\n",
    "                        ]\n",
    "    return annotated_docs"
   ]
  },
  {
   "cell_type": "code",
   "execution_count": null,
   "id": "4bd57a4a",
   "metadata": {},
   "outputs": [],
   "source": [
    "lifestyle_documents = stanzafy_transcripts(full_transcripts)"
   ]
  },
  {
   "cell_type": "code",
   "execution_count": null,
   "id": "01bf3279",
   "metadata": {},
   "outputs": [],
   "source": [
    "import nltk\n",
    "from nltk.corpus import stopwords\n",
    "from nltk import download\n",
    "\n",
    "download('punkt_tab')\n",
    "nltk.download('stopwords')\n",
    "\n",
    "import sklearn\n",
    "from sklearn.feature_extraction.text import ENGLISH_STOP_WORDS\n",
    "\n",
    "stop_words_nltk = stopwords.words('english')\n",
    "stop_words = set(stop_words_nltk).union(set(ENGLISH_STOP_WORDS))"
   ]
  },
  {
   "cell_type": "code",
   "execution_count": 14,
   "id": "aeb3a6f2",
   "metadata": {},
   "outputs": [],
   "source": [
    "def tokenize_single_text(document, remove_stopwords=True, pseudo_text=True, remove_punctuation=True):\n",
    "\n",
    "    if remove_punctuation:\n",
    "        tokens = [token.text.lower() for sentence in document.sentences for token in sentence.tokens if token.text[0].isalpha()]\n",
    "\n",
    "    else:\n",
    "        tokens = [token.text.lower() for sentence in document.sentences for token in sentence.tokens]\n",
    "    \n",
    "    if remove_stopwords:\n",
    "        tokens = [token for token in tokens if token not in stop_words]\n",
    "    \n",
    "    return \" \".join(tokens) if pseudo_text else tokens"
   ]
  },
  {
   "cell_type": "code",
   "execution_count": 15,
   "id": "827ee0f3",
   "metadata": {},
   "outputs": [],
   "source": [
    "def batch_tokenize(documents, remove_stopwords=True, pseudo_text=True, remove_punctuation=True):\n",
    "    \n",
    "    return [tokenize_single_text(doc, remove_stopwords, pseudo_text, remove_punctuation) for doc in documents]"
   ]
  },
  {
   "cell_type": "code",
   "execution_count": 68,
   "id": "c53f607f",
   "metadata": {},
   "outputs": [],
   "source": [
    "def lemmatize_single_text(document, remove_stopwords=True, pseudo_text=True):\n",
    "    \n",
    "    lemmas = [word.lemma.lower() for sentence in document.sentences for word in sentence.words if word.lemma[0].isalpha()]\n",
    "    \n",
    "    if remove_stopwords:\n",
    "        lemmas = [lemma for lemma in lemmas if lemma not in stop_words]\n",
    "\n",
    "    return \" \".join(lemmas) if pseudo_text else lemmas"
   ]
  },
  {
   "cell_type": "code",
   "execution_count": 69,
   "id": "3c3a88c7",
   "metadata": {},
   "outputs": [],
   "source": [
    "def batch_lemmatize(documents, remove_stopwords=True, pseudo_text=True):\n",
    "    \n",
    "    return [lemmatize_single_text(doc, remove_stopwords, pseudo_text) for doc in documents]"
   ]
  },
  {
   "cell_type": "code",
   "execution_count": 20,
   "id": "ce7b12f5",
   "metadata": {},
   "outputs": [],
   "source": [
    "def export_to_json(data, name_of_file):\n",
    "    \"\"\"\n",
    "    Exports a list of dictionaries to a JSON file.\n",
    "\n",
    "    Args:\n",
    "        data (list): The data to export.\n",
    "        name_of_file (str): File path or name (without .json extension).\n",
    "    \"\"\"\n",
    "    try:\n",
    "        if isinstance(data, list):\n",
    "            json_file = f\"{name_of_file}.json\"\n",
    "            with open(json_file, \"w\", encoding=\"utf-8\") as file:\n",
    "                json.dump(data, file, indent=4, ensure_ascii=False)\n",
    "            print(f\"Exported to {json_file}\")\n",
    "        else:\n",
    "            print(f\"Invalid DB type: {type(data)}. Expected a list.\")\n",
    "    except Exception as e:\n",
    "        print(f\"JSON export failed for {name_of_file}: {str(e)}\")"
   ]
  },
  {
   "cell_type": "code",
   "execution_count": null,
   "id": "51b1d423",
   "metadata": {},
   "outputs": [],
   "source": [
    "lemmatized_lifestyle_documents = batch_lemmatize(lifestyle_documents)\n",
    "export_to_json(lemmatized_lifestyle_documents, os.path.join(working_dir, \"lemmatized_lifestyle_documents\"))\n",
    "\n",
    "tokenized_lifestyle_documents = batch_tokenize(lifestyle_documents)\n",
    "export_to_json(tokenized_lifestyle_documents, os.path.join(working_dir, \"tokenized_lifestyle_documents\"))\n",
    "\n",
    "tokenized_lifestyle_documents_w_stopwords = batch_tokenize(lifestyle_documents, remove_stopwords=False)\n",
    "export_to_json(tokenized_lifestyle_documents_w_stopwords, os.path.join(working_dir, \"tokenized_lifestyle_documents_w_stopwords\"))\n",
    "\n",
    "transcripts_no_stopwords = batch_tokenize(lifestyle_documents, remove_punctuation=False)\n",
    "export_to_json(transcripts_no_stopwords, os.path.join(working_dir, transcripts_no_stopwords))\n",
    "\n",
    "transcripts_as_complete_tokens = batch_tokenize(lifestyle_documents, remove_punctuation=False, remove_stopwords=False, pseudo_text=False)\n",
    "export_to_json(transcripts_as_complete_tokens, os.path.join(working_dir, \"transcripts_as_complete_tokens\"))"
   ]
  }
 ],
 "metadata": {
  "kernelspec": {
   "display_name": ".venv",
   "language": "python",
   "name": "python3"
  },
  "language_info": {
   "codemirror_mode": {
    "name": "ipython",
    "version": 3
   },
   "file_extension": ".py",
   "mimetype": "text/x-python",
   "name": "python",
   "nbconvert_exporter": "python",
   "pygments_lexer": "ipython3",
   "version": "3.11.13"
  }
 },
 "nbformat": 4,
 "nbformat_minor": 5
}
